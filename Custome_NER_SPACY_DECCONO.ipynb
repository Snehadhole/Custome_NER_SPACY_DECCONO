{
  "nbformat": 4,
  "nbformat_minor": 0,
  "metadata": {
    "colab": {
      "provenance": []
    },
    "kernelspec": {
      "name": "python3",
      "display_name": "Python 3"
    },
    "language_info": {
      "name": "python"
    }
  },
  "cells": [
    {
      "cell_type": "code",
      "execution_count": 1,
      "metadata": {
        "id": "3fZg00uv1E6P"
      },
      "outputs": [],
      "source": [
        "import json\n",
        "import spacy\n"
      ]
    },
    {
      "cell_type": "markdown",
      "source": [
        "unzip the annoteted zip file"
      ],
      "metadata": {
        "id": "m_dcP0591REz"
      }
    },
    {
      "cell_type": "code",
      "source": [
        "###convert this doccano data into spacy format\n",
        "def convert_doccano_to_spacy(filepath):\n",
        "  with open(filepath, 'rb') as fp:\n",
        "    data = fp.readlines()\n",
        "    training_data = []\n",
        "    for record in data:\n",
        "      entities = []\n",
        "      read_record = json.loads(record)\n",
        "      text = read_record['data']\n",
        "      entities_record = read_record['label']\n",
        "      for start, end, label in entities_record:\n",
        "        entities.append((start, end, label))\n",
        "        training_data.append((text, {\"entities\": entities}))\n",
        "    return training_data"
      ],
      "metadata": {
        "id": "fnLvbggV1KKS"
      },
      "execution_count": null,
      "outputs": []
    },
    {
      "cell_type": "code",
      "source": [
        "data = convert_doccano_to_spacy('/content/ner-spacy-doccano/admin.jsonl')"
      ],
      "metadata": {
        "id": "TAF99lrQ1akl"
      },
      "execution_count": null,
      "outputs": []
    },
    {
      "cell_type": "code",
      "source": [
        "###prepare an empty model to train\n",
        "nlp = spacy.blank('en') ###if you want to train on pretained model then simply replace 'blank' with 'load'\n",
        "nlp.vocab.vectors.name = 'demo'\n",
        "ner = nlp.create_pipe('ner')\n",
        "nlp.add_pipe(ner, last = True)\n"
      ],
      "metadata": {
        "id": "1VydPlcB1iWj"
      },
      "execution_count": null,
      "outputs": []
    },
    {
      "cell_type": "code",
      "source": [
        "class_list = ['person_name','city','course','skills'] #list of classes\n"
      ],
      "metadata": {
        "id": "A3I9J0EX1swZ"
      },
      "execution_count": null,
      "outputs": []
    },
    {
      "cell_type": "code",
      "source": [
        "# Iterate over each label in the class_list\n",
        "for label in class_list:\n",
        "    # Add the current label to the list of entity labels in the NLP model\n",
        "    nlp.entity.add_label(label)\n"
      ],
      "metadata": {
        "id": "Kbw-0heh1xal"
      },
      "execution_count": null,
      "outputs": []
    },
    {
      "cell_type": "code",
      "source": [
        "# Train the model\n",
        "optimizer = nlp.begin_training()"
      ],
      "metadata": {
        "id": "0mRn70DQ15tD"
      },
      "execution_count": null,
      "outputs": []
    },
    {
      "cell_type": "code",
      "source": [
        "# Iterate over a range of 170, typically used for the number of training iterations or epochs\n",
        "for i in range(170):\n",
        "    # Iterate through each pair of text and annotations in the data\n",
        "    for text, annotations in data:\n",
        "        # Check if the text is not empty\n",
        "        if len(text) > 0:\n",
        "            # Update the NLP model with the current batch of text and annotations\n",
        "            # `nlp.update` performs a training step on the provided text and annotations\n",
        "            # `sgd=optimizer` specifies the optimizer to be used for updating the model\n",
        "            nlp.update([text], [annotations], sgd=optimizer)\n"
      ],
      "metadata": {
        "id": "lk9r44xs183I"
      },
      "execution_count": null,
      "outputs": []
    },
    {
      "cell_type": "code",
      "source": [
        "# Define an empty string for testing. Replace with actual text to test the model.\n",
        "text = ''  # Write text for testing\n",
        "\n",
        "# Test the NLP model on the provided text\n",
        "doc = nlp(text)\n",
        "\n",
        "# Iterate over the entities detected by the NLP model in the text\n",
        "for ent in doc.ents:\n",
        "    # Print each entity's text and its corresponding label\n",
        "    print(ent.text, ent.label_)\n"
      ],
      "metadata": {
        "id": "eAa80CJj2MzL"
      },
      "execution_count": null,
      "outputs": []
    },
    {
      "cell_type": "markdown",
      "source": [],
      "metadata": {
        "id": "XLV8zTFj1e5s"
      }
    }
  ]
}